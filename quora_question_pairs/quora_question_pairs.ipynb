{
 "cells": [
  {
   "cell_type": "code",
   "execution_count": 1,
   "metadata": {
    "collapsed": true
   },
   "outputs": [],
   "source": [
    "import pandas as pd"
   ]
  },
  {
   "cell_type": "code",
   "execution_count": 2,
   "metadata": {},
   "outputs": [
    {
     "data": {
      "text/plain": [
       "'D:\\\\Dropbox\\\\WorkingDir\\\\kaggle\\\\quora_question_pairs'"
      ]
     },
     "execution_count": 2,
     "metadata": {},
     "output_type": "execute_result"
    }
   ],
   "source": [
    "import os\n",
    "os.getcwd()"
   ]
  },
  {
   "cell_type": "code",
   "execution_count": 3,
   "metadata": {
    "collapsed": true
   },
   "outputs": [],
   "source": [
    "path = 'D:\\DATA\\Kaggle\\Quora Question Pairs\\data'\n",
    "os.chdir(path)"
   ]
  },
  {
   "cell_type": "code",
   "execution_count": 4,
   "metadata": {},
   "outputs": [
    {
     "data": {
      "text/plain": [
       "'D:\\\\DATA\\\\Kaggle\\\\Quora Question Pairs\\\\data'"
      ]
     },
     "execution_count": 4,
     "metadata": {},
     "output_type": "execute_result"
    }
   ],
   "source": [
    "os.getcwd()"
   ]
  },
  {
   "cell_type": "code",
   "execution_count": 5,
   "metadata": {
    "collapsed": true
   },
   "outputs": [],
   "source": [
    "raw_data = pd.read_csv('train.csv')"
   ]
  },
  {
   "cell_type": "code",
   "execution_count": 8,
   "metadata": {},
   "outputs": [
    {
     "name": "stdout",
     "output_type": "stream",
     "text": [
      "    id  qid1  qid2                                          question1  \\\n",
      "0    0     1     2  What is the step by step guide to invest in sh...   \n",
      "1    1     3     4  What is the story of Kohinoor (Koh-i-Noor) Dia...   \n",
      "2    2     5     6  How can I increase the speed of my internet co...   \n",
      "3    3     7     8  Why am I mentally very lonely? How can I solve...   \n",
      "4    4     9    10  Which one dissolve in water quikly sugar, salt...   \n",
      "5    5    11    12  Astrology: I am a Capricorn Sun Cap moon and c...   \n",
      "6    6    13    14                                Should I buy tiago?   \n",
      "7    7    15    16                     How can I be a good geologist?   \n",
      "8    8    17    18                    When do you use シ instead of し?   \n",
      "9    9    19    20  Motorola (company): Can I hack my Charter Moto...   \n",
      "10  10    21    22  Method to find separation of slits using fresn...   \n",
      "11  11    23    24        How do I read and find my YouTube comments?   \n",
      "12  12    25    26               What can make Physics easy to learn?   \n",
      "13  13    27    28        What was your first sexual experience like?   \n",
      "14  14    29    30  What are the laws to change your status from a...   \n",
      "15  15    31    32  What would a Trump presidency mean for current...   \n",
      "16  16    33    34                       What does manipulation mean?   \n",
      "17  17    35    36  Why do girls want to be friends with the guy t...   \n",
      "18  18    37    38  Why are so many Quora users posting questions ...   \n",
      "19  19    39    40  Which is the best digital marketing institutio...   \n",
      "\n",
      "                                            question2  is_duplicate  \n",
      "0   What is the step by step guide to invest in sh...             0  \n",
      "1   What would happen if the Indian government sto...             0  \n",
      "2   How can Internet speed be increased by hacking...             0  \n",
      "3   Find the remainder when [math]23^{24}[/math] i...             0  \n",
      "4             Which fish would survive in salt water?             0  \n",
      "5   I'm a triple Capricorn (Sun, Moon and ascendan...             1  \n",
      "6   What keeps childern active and far from phone ...             0  \n",
      "7           What should I do to be a great geologist?             1  \n",
      "8               When do you use \"&\" instead of \"and\"?             0  \n",
      "9   How do I hack Motorola DCX3400 for free internet?             0  \n",
      "10  What are some of the things technicians can te...             0  \n",
      "11             How can I see all my Youtube comments?             1  \n",
      "12            How can you make physics easy to learn?             1  \n",
      "13             What was your first sexual experience?             1  \n",
      "14  What are the laws to change your status from a...             0  \n",
      "15  How will a Trump presidency affect the student...             1  \n",
      "16                      What does manipulation means?             1  \n",
      "17           How do guys feel after rejecting a girl?             0  \n",
      "18  Why do people ask Quora questions which can be...             1  \n",
      "19  Which is the best digital marketing institute ...             0  \n"
     ]
    }
   ],
   "source": [
    "print(raw_data.head(20))"
   ]
  },
  {
   "cell_type": "code",
   "execution_count": null,
   "metadata": {
    "collapsed": true
   },
   "outputs": [],
   "source": []
  }
 ],
 "metadata": {
  "kernelspec": {
   "display_name": "Python 3",
   "language": "python",
   "name": "python3"
  },
  "language_info": {
   "codemirror_mode": {
    "name": "ipython",
    "version": 3
   },
   "file_extension": ".py",
   "mimetype": "text/x-python",
   "name": "python",
   "nbconvert_exporter": "python",
   "pygments_lexer": "ipython3",
   "version": "3.6.1"
  }
 },
 "nbformat": 4,
 "nbformat_minor": 2
}
